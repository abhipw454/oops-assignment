{
  "nbformat": 4,
  "nbformat_minor": 0,
  "metadata": {
    "colab": {
      "provenance": []
    },
    "kernelspec": {
      "name": "python3",
      "display_name": "Python 3"
    },
    "language_info": {
      "name": "python"
    }
  },
  "cells": [
    {
      "cell_type": "code",
      "execution_count": null,
      "metadata": {
        "id": "reYnnykv3rY-"
      },
      "outputs": [],
      "source": []
    },
    {
      "cell_type": "markdown",
      "source": [
        "1. What is Object-Oriented Programming (OOP)?\n",
        "\n",
        "OOP is a programming paradigm based on the concept of \"objects,\" which can contain data and code:\n",
        "Data: in the form of fields (attributes).\n",
        "Code: in the form of procedures (methods).\n",
        "Key principles include:\n",
        "Encapsulation: Bundling data and methods that operate on that data within the object.\n",
        "Abstraction: Simplifying complex reality by modeling only essential features.\n",
        "Inheritance: Creating new objects (derived classes) based on existing ones (base classes).\n",
        "Polymorphism: Allowing objects of different classes to be treated as objects of a common type.\n",
        "\n",
        "2. What is a class in OOP?\n",
        "\n",
        "A class is a blueprint or template for creating objects. It defines the structure and behavior (attributes and methods) that the objects will have. Think of it as a cookie cutter; the class is the cutter, and the objects are the cookies.\n",
        "\n",
        "3. What is an object in OOP?\n",
        "\n",
        "An object is an instance of a class. It's a concrete realization of the class blueprint. Objects have specific values for the attributes defined by the class. (A cookie made from the cookie cutter.)\n",
        "\n",
        "4. What is the difference between abstraction and encapsulation?\n",
        "\n",
        "Abstraction: Hiding complex implementation details and showing only essential information to the user. (e.g., a car's gas pedal abstracts the complex mechanics of the engine)\n",
        "Encapsulation: Bundling data and methods that operate on that data within a class, and controlling access to the data. (e.g., using private variables and getter/setter methods to protect data integrity).\n",
        "\n",
        "5. What are dunder methods in Python?\n",
        "\n",
        "Dunder methods (also called magic methods) are special methods in Python that begin and end with double underscores (__). They define how objects behave in certain situations (e.g., __init__ for object initialization, __str__ for string representation, __len__ for length, etc.).\n",
        "\n",
        "6. Explain the concept of inheritance in OOP.\n",
        "\n",
        "Inheritance allows you to create new classes (derived classes) that inherit attributes and methods from existing classes (base classes). This promotes code reuse and establishes relationships between classes.\n",
        "\n",
        "7. What is polymorphism in OOP?\n",
        "\n",
        "Polymorphism means \"many forms.\" It allows objects of different classes to be treated as objects of a common type. This is achieved through method overriding and interfaces.\n",
        "\n",
        "8. How is encapsulation achieved in Python?\n",
        "\n",
        "Encapsulation is primarily achieved using naming conventions (e.g., prefixing attributes with a single underscore _ to indicate they are intended for internal use) and through properties (using the @property decorator) to control attribute access. Python doesn't have strict access modifiers like private in some other languages.\n",
        "\n",
        "9. What is a constructor in Python?\n",
        "\n",
        "A constructor is a special method (__init__) that is automatically called when an object of a class is created. It's used to initialize the object's attributes.\n",
        "\n",
        "10. What are class and static methods in Python?\n",
        "\n",
        "Class Method: A method bound to the class and not the instance of the class. It receives the class as the first argument (cls). Use @classmethod decorator.\n",
        "Static Method: A method bound to the class but does not receive the class or instance as an argument. It's like a regular function but belongs to the class namespace. Use @staticmethod decorator.\n",
        "\n",
        "11. What is method overloading in Python?\n",
        "\n",
        "Method overloading is NOT directly supported in Python in the same way as in languages like Java or C++. You can achieve similar behavior using default arguments or variable-length argument lists (*args and **kwargs).\n",
        "\n",
        "12. What is method overriding in OOP?\n",
        "\n",
        "Method overriding occurs when a derived class provides a specific implementation for a method that is already defined in its base class. The derived class's method \"overrides\" the base class's method.\n",
        "\n",
        "13. What is a property decorator in Python?\n",
        "\n",
        "The @property decorator is used to define methods that can be accessed like attributes. It allows you to implement getters, setters, and deleters for class attributes, providing controlled access and data validation.\n",
        "\n",
        "14. Why is polymorphism important in OOP?\n",
        "\n",
        "Polymorphism makes code more flexible and reusable. You can write code that works with objects of different classes without needing to know their specific type, as long as they share a common interface or base class.\n",
        "\n",
        "15. What is an abstract class in Python?\n",
        "\n",
        "An abstract class is a class that cannot be instantiated directly. It's designed to be subclassed, and it often includes abstract methods (methods without implementation). Abstract classes enforce certain interfaces for their subclasses. You use the abc module to define abstract classes and methods (@abstractmethod).\n",
        "\n",
        "16. What are the advantages of OOP?\n",
        "\n",
        "Modularity: Code is organized into self-contained objects.\n",
        "Reusability: Objects can be reused in different parts of the program or in other programs.\n",
        "Maintainability: Changes to one object are less likely to affect other parts of the program.\n",
        "Extensibility: New features can be added easily through inheritance and polymorphism.\n",
        "Problem Decomposition: Complex problems can be broken down into smaller, manageable objects.\n",
        "\n",
        "17. What is the difference between a class variable and an instance variable?\n",
        "\n",
        "Class Variable: Shared among all instances of a class. Modified by accessing the class itself or any instance (though usually accessed by class).\n",
        "Instance Variable: Unique to each instance of a class. Defined within the __init__ method and accessed using self.\n",
        "\n",
        "18. What is multiple inheritance in Python?\n",
        "\n",
        "Multiple inheritance allows a class to inherit from multiple base classes. This can be useful for combining functionalities from different sources, but it can also lead to complexities (e.g., the diamond problem).\n",
        "\n",
        "19. Explain the purpose of __str__ and __repr__ methods in Python.\n",
        "\n",
        "__str__: Returns a user-friendly string representation of the object. Called by str() and print().\n",
        "__repr__: Returns a detailed string representation of the object, often used for debugging and development. Called by repr(). Ideally, eval(repr(obj)) == obj.\n",
        "\n",
        "20. What is the significance of the super() function in Python?\n",
        "\n",
        "super() is used to call methods from a parent (or grandparent) class in a class hierarchy. It's essential for properly initializing parent classes and for implementing method overriding without completely replacing the parent's method\n",
        "\n",
        "21. What is the significance of the __del__ method in Python?\n",
        "\n",
        "The __del__ method (destructor) is called when an object is about to be destroyed. It's used to release resources (e.g., closing files or network connections). However, relying on __del__ for resource management is generally discouraged due to its unpredictable timing. Context managers (with statement) are a better approach.\n",
        "\n",
        "22. What is the difference between @staticmethod and @classmethod in Python?\n",
        "\n",
        "@staticmethod: Doesn't receive the class or instance as an argument. It's essentially a regular function that's part of the class namespace.\n",
        "@classmethod: Receives the class as the first argument (cls). It can be used to create factory methods or to access class-level attributes.\n",
        "\n",
        "23. How does polymorphism work in Python with inheritance?\n",
        "\n",
        "When a derived class overrides a method from its base class, polymorphism allows you to call the overridden method on an object of the derived class, even if you are treating it as an object of the base class. Python's dynamic dispatch mechanism ensures that the correct method (the one in the derived class) is called at runtime.\n",
        "\n",
        "24. What is method chaining in Python OOP?\n",
        "\n",
        "Method chaining is a technique where you can call multiple methods on an object in a single line of code, by having each method return the object itself (or self). This makes the code more concise and readable.\n",
        "\n",
        "25. What is the purpose of the __call__ method in Python?\n",
        "\n",
        "The __call__ method allows you to treat an object as a function. When you call an object (e.g., obj()), Python automatically calls the object's __call__ method. This can be useful for creating function-like objects or functors.\n"
      ],
      "metadata": {
        "id": "W_iEpQx__z7L"
      }
    },
    {
      "cell_type": "markdown",
      "source": [
        "#\n",
        "OOP ASSIGNMENT"
      ],
      "metadata": {
        "id": "UDMQah7J3yfy"
      }
    },
    {
      "cell_type": "code",
      "source": [
        "# Animal and Dog Classes\n",
        "\n",
        "class Animal:\n",
        "    def speak(self):\n",
        "        print(\"Generic animal sound\")\n",
        "\n",
        "class Dog(Animal):\n",
        "    def speak(self):\n",
        "        print(\"Woof!\")\n",
        "\n",
        "# Example usage\n",
        "animal = Animal()\n",
        "animal.speak()  # Output: Generic animal sound\n",
        "\n",
        "dog = Dog()\n",
        "dog.speak()  # Output: Woof!\n"
      ],
      "metadata": {
        "colab": {
          "base_uri": "https://localhost:8080/"
        },
        "id": "M_6UGhvwtJ3P",
        "outputId": "7c2f1ef1-f828-4771-cd30-95eb47641d7c"
      },
      "execution_count": 1,
      "outputs": [
        {
          "output_type": "stream",
          "name": "stdout",
          "text": [
            "Generic animal sound\n",
            "Woof!\n"
          ]
        }
      ]
    },
    {
      "cell_type": "code",
      "source": [
        "# Abstract Shape Class and Subclasses\n",
        "from abc import ABC, abstractmethod\n",
        "\n",
        "class Shape(ABC):\n",
        "    @abstractmethod\n",
        "    def area(self):\n",
        "        pass\n",
        "\n",
        "class Circle(Shape):\n",
        "    def __init__(self, radius):\n",
        "        self.radius = radius\n",
        "\n",
        "    def area(self):\n",
        "        return 3.14159 * self.radius**2\n",
        "\n",
        "class Rectangle(Shape):\n",
        "    def __init__(self, length, width):\n",
        "        self.length = length\n",
        "        self.width = width\n",
        "\n",
        "    def area(self):\n",
        "        return self.length * self.width\n",
        "\n",
        "# Example usage\n",
        "circle = Circle(5)\n",
        "print(f\"Circle area: {circle.area()}\")  # Output: Circle area: 78.53975\n",
        "\n",
        "rectangle = Rectangle(4, 6)\n",
        "print(f\"Rectangle area: {rectangle.area()}\")  # Output: Rectangle area: 24\n",
        "\n",
        "\n"
      ],
      "metadata": {
        "id": "ovTf-buytxh7"
      },
      "execution_count": null,
      "outputs": []
    },
    {
      "cell_type": "code",
      "source": [
        "# Multi-Level Inheritance (Vehicle, Car, ElectricCar)\n",
        "class Vehicle:\n",
        "    def __init__(self, type):\n",
        "        self.type = type\n",
        "\n",
        "class Car(Vehicle):\n",
        "    def __init__(self, type, model):\n",
        "        super().__init__(type)\n",
        "        self.model = model\n",
        "\n",
        "class ElectricCar(Car):\n",
        "    def __init__(self, type, model, battery_capacity):\n",
        "        super().__init__(type, model)\n",
        "        self.battery_capacity = battery_capacity\n",
        "\n",
        "# Example usage\n",
        "ev = ElectricCar(\"Electric\", \"Tesla Model S\", \"100 kWh\")\n",
        "print(ev.type)  # Output: Electric\n",
        "print(ev.model)  # Output: Tesla Model S\n",
        "print(ev.battery_capacity)  # Output: 100 kWh\n",
        "\n",
        "\n"
      ],
      "metadata": {
        "id": "7LT8nFzVt9LT"
      },
      "execution_count": null,
      "outputs": []
    },
    {
      "cell_type": "code",
      "source": [
        "# Encapsulation with BankAccount\n",
        "class BankAccount:\n",
        "    def __init__(self, balance):\n",
        "        self.__balance = balance  # Private attribute\n",
        "\n",
        "    def deposit(self, amount):\n",
        "        if amount > 0:\n",
        "            self.__balance += amount\n",
        "\n",
        "    def withdraw(self, amount):\n",
        "        if amount > 0 and amount <= self.__balance:\n",
        "            self.__balance -= amount\n",
        "\n",
        "    def check_balance(self):\n",
        "        return self.__balance\n",
        "\n",
        "# Example usage\n",
        "account = BankAccount(1000)\n",
        "account.deposit(500)\n",
        "account.withdraw(200)\n",
        "print(f\"Balance: {account.check_balance()}\")  # Output: Balance: 1300\n"
      ],
      "metadata": {
        "id": "_dHQQ-egua0p"
      },
      "execution_count": null,
      "outputs": []
    },
    {
      "cell_type": "code",
      "source": [
        "# Runtime Polymorphism with Instruments\n",
        "class Instrument:\n",
        "    def play(self):\n",
        "        print(\"Playing generic instrument\")\n",
        "\n",
        "class Guitar(Instrument):\n",
        "    def play(self):\n",
        "        print(\"Strumming the guitar\")\n",
        "\n",
        "class Piano(Instrument):\n",
        "    def play(self):\n",
        "        print(\"Playing the piano keys\")\n",
        "\n",
        "# Example usage\n",
        "instruments = [Guitar(), Piano()]\n",
        "for instrument in instruments:\n",
        "    instrument.play()\n",
        "# Output: Strumming the guitar, Playing the piano keys\n"
      ],
      "metadata": {
        "id": "uVrDzFC2uoYN"
      },
      "execution_count": null,
      "outputs": []
    },
    {
      "cell_type": "code",
      "source": [
        "# Class and Static Methods in MathOperations\n",
        "class MathOperations:\n",
        "    @classmethod\n",
        "    def add_numbers(cls, x, y):\n",
        "        return x + y\n",
        "\n",
        "    @staticmethod\n",
        "    def subtract_numbers(x, y):\n",
        "        return x - y\n",
        "\n",
        "# Example usage\n",
        "result_add = MathOperations.add_numbers(5, 3)\n",
        "print(f\"Sum: {result_add}\")  # Output: Sum: 8\n",
        "\n",
        "result_subtract = MathOperations.subtract_numbers(10, 4)\n",
        "print(f\"Difference: {result_subtract}\")  # Output: Difference: 6\n",
        "\n",
        "\n"
      ],
      "metadata": {
        "id": "JgrEINRburzw"
      },
      "execution_count": null,
      "outputs": []
    },
    {
      "cell_type": "code",
      "source": [
        "# Class Method to Count Persons\n",
        "class Person:\n",
        "    count = 0  # Class variable to count instances\n",
        "\n",
        "    def __init__(self, name):\n",
        "        self.name = name\n",
        "        Person.count += 1\n",
        "\n",
        "    @classmethod\n",
        "    def total_persons(cls):\n",
        "        return cls.count\n",
        "\n",
        "# Example usage\n",
        "person1 = Person(\"Alice\")\n",
        "person2 = Person(\"Bob\")\n",
        "person3 = Person(\"Charlie\")\n",
        "print(f\"Total persons: {Person.total_persons()}\")  # Output: Total persons: 3\n",
        "\n",
        "\n"
      ],
      "metadata": {
        "id": "nbzOo5PFuyz0"
      },
      "execution_count": null,
      "outputs": []
    },
    {
      "cell_type": "code",
      "source": [
        "\n",
        "# Fraction Class with Overridden str\n",
        "class Fraction:\n",
        "    def __init__(self, numerator, denominator):\n",
        "        self.numerator = numerator\n",
        "        self.denominator = denominator\n",
        "\n",
        "    def __str__(self):\n",
        "        return f\"{self.numerator}/{self.denominator}\"\n",
        "\n",
        "# Example usage\n",
        "fraction = Fraction(3, 4)\n",
        "print(fraction)  # Output: 3/4\n",
        "\n",
        "\n"
      ],
      "metadata": {
        "id": "YT73-Ts6u5uq"
      },
      "execution_count": null,
      "outputs": []
    },
    {
      "cell_type": "code",
      "source": [
        "# Operator Overloading for Vector Addition\n",
        "class Vector:\n",
        "    def __init__(self, x, y):\n",
        "        self.x = x\n",
        "        self.y = y\n",
        "\n",
        "    def __add__(self, other):\n",
        "        if isinstance(other, Vector):\n",
        "            return Vector(self.x + other.x, self.y + other.y)\n",
        "        else:\n",
        "            raise TypeError(\"Can only add another Vector object\")\n",
        "\n",
        "    def __str__(self):\n",
        "        return f\"({self.x}, {self.y})\"\n",
        "\n",
        "# Example usage\n",
        "v1 = Vector(2, 3)\n",
        "v2 = Vector(4, 5)\n",
        "v3 = v1 + v2\n",
        "print(v3)  # Output: (6, 8)\n"
      ],
      "metadata": {
        "id": "3Lw-Cp8bu-cA"
      },
      "execution_count": null,
      "outputs": []
    },
    {
      "cell_type": "code",
      "source": [
        "#Person Class with greet() Method\n",
        "class Person:\n",
        "    def __init__(self, name, age):\n",
        "        self.name = name\n",
        "        self.age = age\n",
        "\n",
        "    def greet(self):\n",
        "        print(f\"Hello, my name is {self.name} and I am {self.age} years old.\")\n",
        "\n",
        "# Example usage\n",
        "person = Person(\"Alice\", 30)\n",
        "person.greet()  # Output: Hello, my name is Alice and I am 30 years old.\n",
        "\n",
        "\n"
      ],
      "metadata": {
        "id": "pjwP3HQ-vDRb"
      },
      "execution_count": null,
      "outputs": []
    },
    {
      "cell_type": "code",
      "source": [
        "\n",
        "#Student Class with average_grade() Method\n",
        "class Student:\n",
        "    def __init__(self, name, grades):\n",
        "        self.name = name\n",
        "        self.grades = grades\n",
        "\n",
        "    def average_grade(self):\n",
        "        if self.grades:\n",
        "            return sum(self.grades) / len(self.grades)\n",
        "        else:\n",
        "            return 0\n",
        "\n",
        "# Example usage\n",
        "student = Student(\"Bob\", [85, 92, 78, 88])\n",
        "print(f\"Average grade: {student.average_grade()}\")  # Output: Average grade: 85.75\n"
      ],
      "metadata": {
        "id": "0RidCP5gvIZ6"
      },
      "execution_count": null,
      "outputs": []
    },
    {
      "cell_type": "code",
      "source": [
        "# Rectangle Class with set_dimensions() and area()\n",
        "class Rectangle:\n",
        "    def __init__(self):\n",
        "        self.length = 0\n",
        "        self.width = 0\n",
        "\n",
        "    def set_dimensions(self, length, width):\n",
        "        self.length = length\n",
        "        self.width = width\n",
        "\n",
        "    def area(self):\n",
        "        return self.length * self.width\n",
        "\n",
        "# Example usage\n",
        "rectangle = Rectangle()\n",
        "rectangle.set_dimensions(5, 10)\n",
        "print(f\"Area: {rectangle.area()}\")  # Output: Area: 50\n",
        "\n",
        "\n"
      ],
      "metadata": {
        "id": "x8DPnJsKvMMQ"
      },
      "execution_count": null,
      "outputs": []
    },
    {
      "cell_type": "code",
      "source": [
        "# Employee and Manager Classes with Salary Calculation\n",
        "class Employee:\n",
        "    def __init__(self, hours_worked, hourly_rate):\n",
        "        self.hours_worked = hours_worked\n",
        "        self.hourly_rate = hourly_rate\n",
        "\n",
        "    def calculate_salary(self):\n",
        "        return self.hours_worked * self.hourly_rate\n",
        "\n",
        "class Manager(Employee):\n",
        "    def __init__(self, hours_worked, hourly_rate, bonus):\n",
        "        super().__init__(hours_worked, hourly_rate)\n",
        "        self.bonus = bonus\n",
        "\n",
        "    def calculate_salary(self):\n",
        "        base_salary = super().calculate_salary()\n",
        "        return base_salary + self.bonus\n",
        "\n",
        "# Example usage\n",
        "employee = Employee(40, 20)\n",
        "print(f\"Employee salary: {employee.calculate_salary()}\")  # Output: Employee salary: 800\n",
        "\n",
        "manager = Manager(40, 20, 500)\n",
        "print(f\"Manager salary: {manager.calculate_salary()}\")  # Output: Manager salary: 1300\n",
        "\n",
        "\n"
      ],
      "metadata": {
        "colab": {
          "base_uri": "https://localhost:8080/"
        },
        "id": "JcsAzXRSvQfE",
        "outputId": "34da4274-e92e-4caa-cedf-8408860550a1"
      },
      "execution_count": 2,
      "outputs": [
        {
          "output_type": "stream",
          "name": "stdout",
          "text": [
            "Employee salary: 800\n",
            "Manager salary: 1300\n"
          ]
        }
      ]
    },
    {
      "cell_type": "code",
      "source": [
        "\n",
        "# Create a class Product with attributes name, price, and quantity. Implement a method total_price() that calculates the total price of the product.\n",
        "\n",
        "class Product:\n",
        "    def __init__(self, name, price, quantity):\n",
        "        self.name = name\n",
        "        self.price = price\n",
        "        self.quantity = quantity\n",
        "\n",
        "    def total_price(self):\n",
        "        return self.price * self.quantity\n",
        "\n",
        "# Example usage:\n",
        "product1 = Product(\"Laptop\", 1200, 1)\n",
        "product2 = Product(\"Mouse\", 25, 3)\n",
        "\n",
        "print(f\"Total price of {product1.name}: ${product1.total_price()}\")  # Output: Total price of Laptop: 1200\n",
        "print(f\"Total price of {product2.name}: ${product2.total_price()}\")  # Output: Total price of Mouse: 75\n",
        "\n"
      ],
      "metadata": {
        "colab": {
          "base_uri": "https://localhost:8080/"
        },
        "id": "8HI46zZVwWOl",
        "outputId": "8e9912eb-8f35-40a4-a064-059e3d72ba70"
      },
      "execution_count": 11,
      "outputs": [
        {
          "output_type": "stream",
          "name": "stdout",
          "text": [
            "Total price of Laptop: $1200\n",
            "Total price of Mouse: $75\n"
          ]
        }
      ]
    },
    {
      "cell_type": "code",
      "source": [
        "# Create a class Animal with an abstract method sound(). Create two derived classes Cow and Sheep that implement the sound() method.\n",
        "from abc import ABC, abstractmethod\n",
        "\n",
        "class Animal(ABC):  # Animal is now an Abstract Base Class\n",
        "    @abstractmethod\n",
        "    def sound(self):\n",
        "        pass  # Abstract methods have no implementation\n",
        "\n",
        "class Cow(Animal):\n",
        "    def sound(self):\n",
        "        return \"Moo\"\n",
        "\n",
        "class Sheep(Animal):\n",
        "    def sound(self):\n",
        "        return \"Baa\"\n",
        "\n",
        "# Example usage:\n",
        "my_cow = Cow()\n",
        "my_sheep = Sheep()\n",
        "\n",
        "print(f\"The cow says: {my_cow.sound()}\")  # Output: The cow says: Moo\n",
        "print(f\"The sheep says: {my_sheep.sound()}\")  # Output: The sheep says: Baa\n",
        "\n",
        "\n",
        "\n"
      ],
      "metadata": {
        "colab": {
          "base_uri": "https://localhost:8080/"
        },
        "id": "ZIiv4KFyxIn2",
        "outputId": "9b5232ca-8772-49f0-e15f-863a59c0e609"
      },
      "execution_count": 12,
      "outputs": [
        {
          "output_type": "stream",
          "name": "stdout",
          "text": [
            "The cow says: Moo\n",
            "The sheep says: Baa\n"
          ]
        }
      ]
    },
    {
      "cell_type": "code",
      "source": [
        "# Create a class Book with attributes title, author, and year_published. Add a method get_book_info() that returns a formatted string with the book's details.\n",
        "class Book:\n",
        "    def __init__(self, title, author, year_published):\n",
        "        self.title = title\n",
        "        self.author = author\n",
        "        self.year_published = year_published\n",
        "\n",
        "    def get_book_info(self):\n",
        "        return f\"{self.title} by {self.author} ({self.year_published})\"\n",
        "\n",
        "# Example usage:\n",
        "book = Book(\"The Hitchhiker's Guide to the Galaxy\", \"Douglas Adams\", 1979)\n",
        "print(book.get_book_info())  # Output: The Hitchhiker's Guide to the Galaxy by Douglas Adams (1979)\n",
        "\n",
        "\n"
      ],
      "metadata": {
        "colab": {
          "base_uri": "https://localhost:8080/"
        },
        "id": "So0S2gkVxrl6",
        "outputId": "84de5216-f727-4aff-a44a-58c0e6c8c3b8"
      },
      "execution_count": 8,
      "outputs": [
        {
          "output_type": "stream",
          "name": "stdout",
          "text": [
            "The Hitchhiker's Guide to the Galaxy by Douglas Adams (1979)\n"
          ]
        }
      ]
    },
    {
      "cell_type": "code",
      "source": [
        "# Create a class House with attributes address and price. Create a derived class Mansion that adds an attribute number_of_rooms.\n",
        "class House:\n",
        "    def __init__(self, address, price):\n",
        "        self.address = address\n",
        "        self.price = price\n",
        "\n",
        "class Mansion(House):\n",
        "    def __init__(self, address, price, number_of_rooms):\n",
        "        super().__init__(address, price)\n",
        "        self.number_of_rooms = number_of_rooms\n",
        "\n",
        "# Example usage:\n",
        "house = House(\"123 Main St\", 250000)\n",
        "print(f\"House address: {house.address}, price: {house.price}\")  # Output: House address: 123 Main St, price: 250000\n",
        "\n",
        "mansion = Mansion(\"456 Park Ave\", 1000000, 15)\n",
        "print(f\"Mansion address: {mansion.address}, price: {mansion.price}, rooms: {mansion.number_of_rooms}\")\n",
        "# Output: Mansion address: 456 Park Ave, price: 1000000, rooms: 15\n"
      ],
      "metadata": {
        "colab": {
          "base_uri": "https://localhost:8080/"
        },
        "id": "wsKgcLSkxxWO",
        "outputId": "8fbf943c-3c04-428d-ab31-e1220a9508d8"
      },
      "execution_count": 9,
      "outputs": [
        {
          "output_type": "stream",
          "name": "stdout",
          "text": [
            "House address: 123 Main St, price: 250000\n",
            "Mansion address: 456 Park Ave, price: 1000000, rooms: 15\n"
          ]
        }
      ]
    },
    {
      "cell_type": "code",
      "source": [],
      "metadata": {
        "id": "Mu8teVeVuwKI"
      },
      "execution_count": null,
      "outputs": []
    },
    {
      "cell_type": "code",
      "source": [],
      "metadata": {
        "id": "quIY3Ll_uBE_"
      },
      "execution_count": null,
      "outputs": []
    },
    {
      "cell_type": "code",
      "source": [],
      "metadata": {
        "id": "9M3yEmJXtGaV"
      },
      "execution_count": null,
      "outputs": []
    }
  ]
}